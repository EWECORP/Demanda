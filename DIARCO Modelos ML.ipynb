{
 "cells": [
  {
   "cell_type": "markdown",
   "id": "99bdca35",
   "metadata": {},
   "source": [
    "NOTA: Este notebook solo contiene el código para usar a modo de plantilla.\n",
    "\n",
    "Presupone que tienes un entorno de Conda creado donde tienes ya instalados los paquetes usados durante el notebook.\n",
    "\n",
    "También presupone que conoces conceptos como entranamiento y test, dataframe, predictoras y target, balanceo de datos, etc.\n",
    "\n",
    "Si todo esto de momento te suena a chino te recomiendo empezar apúntandote de forma 100% gratuita a:\n",
    "\n",
    "www.tuprimerasemana.com\n",
    "\n",
    "Ten en cuenta que este notebook es un recurso gratuito descargado por miles de personas y que por tanto no puedo prestar ningún tipo de soporte ni resolución de dudas sobre el mismo."
   ]
  },
  {
   "cell_type": "markdown",
   "id": "c8e1cde4",
   "metadata": {},
   "source": [
    "# IMPORTACIONES BÁSICAS"
   ]
  },
  {
   "cell_type": "code",
   "execution_count": 1,
   "id": "dbaecf3f",
   "metadata": {},
   "outputs": [],
   "source": [
    "import numpy as np\n",
    "import pandas as pd\n",
    "import matplotlib.pyplot as plt"
   ]
  },
  {
   "cell_type": "markdown",
   "id": "6872ca22",
   "metadata": {},
   "source": [
    "# CARGAR DATOS DE LA DEMANDA"
   ]
  },
  {
   "cell_type": "code",
   "execution_count": 2,
   "id": "8fb64fcf",
   "metadata": {},
   "outputs": [
    {
     "name": "stdout",
     "output_type": "stream",
     "text": [
      "DRIVER={ODBC Driver 17 for SQL Server};SERVER=10.54.200.90;PORT=1433;DATABASE=data-sync;UID=eettlin;PWD=lOc4l_eXt$24;\n",
      "DRIVER={ODBC Driver 17 for SQL Server};SERVER=10.54.200.90;PORT=1433;DATABASE=data-sync;UID=eettlin;PWD=lOc4l_eXt$24;\n"
     ]
    }
   ],
   "source": [
    "# OBTENER PARÁMETROS de la CONEXIÓN\n",
    "\n",
    "import pyodbc\n",
    "from dotenv import dotenv_values\n",
    "\n",
    "secrets = dotenv_values(\".env\")\n",
    "local_secrets = dotenv_values(\".env.dev\")\n",
    "\n",
    "DRIVER = secrets[\"DRIVER2\"]\n",
    "SERVIDOR = secrets[\"SERVIDOR2\"]\n",
    "PUERTO = secrets[\"PUERTO2\"]\n",
    "BASE = secrets[\"BASE2\"]\n",
    "USUARIO = secrets[\"USUARIO2\"]\n",
    "CONTRASENA = secrets[\"CONTRASENA2\"]\n",
    "\n",
    "constr = f'DRIVER={DRIVER};SERVER={SERVIDOR};PORT={PUERTO};DATABASE={BASE};UID={USUARIO};PWD={CONTRASENA}'\n",
    "\n",
    "conn_str = (\n",
    "    \"DRIVER={ODBC Driver 17 for SQL Server};\"\n",
    "    \"SERVER=10.54.200.90;\"\n",
    "     \"PORT=1433;\"\n",
    "    \"DATABASE=data-sync;\"\n",
    "    \"UID=eettlin;\"\n",
    "    \"PWD=lOc4l_eXt$24;\"\n",
    ")\n",
    "\n",
    "print (constr)\n",
    "print (conn_str)"
   ]
  },
  {
   "cell_type": "markdown",
   "metadata": {},
   "source": [
    "### Listado de Sucursales\n",
    "\n",
    "id_tienda\tsuc_nombre\tsucursal\tformato\n",
    "1\tMERCADO CENTRAL\tMercado Central\tMAYORISTA\n",
    "2\tPOSADAS\tPosadas\tMAYORISTA\n",
    "3\tTRELEW\tTrelew\tMAYORISTA\n",
    "4\tCASANOVA\tCasanova\tMAYORISTA\n",
    "5\tSAN MARTIN\tSan Martin\tMAYORISTA\n",
    "7\tBARRACAS\tBarracas\tMAYORISTA\n",
    "8\tNEUQUEN\tNeuquen\tMAYORISTA\n",
    "10\tJUNIN\tJunin\tMAYORISTA\n",
    "11\tBAHIA BLANCA\tBahía Blanca\tMAYORISTA\n",
    "12\tLA RIOJA\tLa Rioja\tMAYORISTA\n",
    "13\tPILAR\tPilar\tMAYORISTA\n",
    "15\tBERAZATEGUI\tBerazategui\tMAYORISTA\n",
    "16\tCORRIENTES\tCorrientes\tMAYORISTA\n",
    "18\tPERGAMINO\tPergamino\tMAYORISTA\n",
    "19\tESQUEL\tEsquel\tMAYORISTA\n",
    "20\tSANTA ROSA\tSanta Rosa\tMAYORISTA\n",
    "21\tCOM. RIVADAVIA\tComod. Rivadavia\tMAYORISTA\n",
    "22\t9 DE JULIO\t9 de Julio\tMAYORISTA\n",
    "23\tBARILOCHE\tBariloche\tMAYORISTA\n",
    "24\tLANUS\tLanus\tMAYORISTA\n",
    "25\tPINAMAR\tPinamar\tMAYORISTA\n",
    "26\tSALTA\tSalta\tMAYORISTA\n",
    "27\tVILLA MERCEDES\tVilla Mercedes\tMAYORISTA\n",
    "28\tZAPALA\tZapala\tMAYORISTA\n",
    "29\tMORON\tMorón\tMAYORISTA\n",
    "30\tRIO GALLEGOS\tRío Gallegos\tMAYORISTA\n",
    "31\tTANDIL\tTandil\tMAYORISTA\n",
    "32\tCORONEL SUAREZ\tCoronel Suarez\tMAYORISTA\n",
    "33\tCHASCOMUS\tChascomus\tMAYORISTA\n",
    "34\tVIEDMA\tViedma\tMAYORISTA\n",
    "35\tCONCORDIA\tConcordia\tMAYORISTA\n",
    "36\tPARANA\tParaná\tMAYORISTA\n",
    "37\tRIO GRANDE\tRío Grande\tMAYORISTA\n",
    "38\tMARTINEZ\tMartinez\tMAYORISTA\n",
    "41\tBASE 2\tBase 2\tMAYORISTA\n",
    "42\tCALETA OLIVIA\tCaleta Olivia\tMAYORISTA\n",
    "43\tR. SAENZ PENA\tR.S.Peña\tMAYORISTA\n",
    "44\tCALAFATE\tCalafate\tMAYORISTA\n",
    "45\tSANTIAGO DEL ESTERO\tSantiago del Estero\tMAYORISTA\n",
    "46\tCUTRAL CO\tCutral-Co\tMAYORISTA\n",
    "47\tSAN RAFAEL\tSan Rafael\tMAYORISTA\n",
    "48\tUSHUAIA\tUshuaia                                           \tMAYORISTA\n",
    "49\tTRENQUE LAUQUEN\tTrenque Lauquen\tPUEBLO\n",
    "60\tPEHUAJO\tPehuajó\tPUEBLO\n",
    "61\tPUERTO DESEADO\tPuerto Deseado\tPUEBLO\n",
    "62\tTRES ARROYOS\tTres Arroyos\tPUEBLO\n",
    "64\tGENERAL PICO\tGral Pico\tMAYORISTA\n",
    "65\tANELO\tAñelo\tMAYORISTA\n",
    "66\tLUJAN\tLuján\tMAYORISTA\n",
    "67\tPIEDRABUENA\tPiedra Buena\tPUEBLO\n",
    "68\tEL BOLSON\tEl Bolsón\tPUEBLO\n",
    "69\tVENADO TUERTO\tVenado Tuerto\tPUEBLO\n",
    "70\tPICO TRUNCADO\tPico Truncado\tPUEBLO\n",
    "71\tJUNIN DE LOS ANDES\tJunín de los Andes\tPUEBLO\n",
    "72\tSAN MIGUEL\tSan Miguel\tBARRIO\n",
    "73\tGUALEGUAYCHU\tGualeguaychú\tPUEBLO\n",
    "74\tCHILECITO\tChilecito\tPUEBLO\n",
    "75\tCHOS MALAL\tChos Malal\tPUEBLO\n",
    "76\tBOLIVAR\tBolívar\tPUEBLO\n",
    "77\tCONCORDIA-DP\tConcordia II\tPUEBLO\n",
    "78\tRAFAELA\tRafaela\tPUEBLO\n",
    "79\tVIEDMA II\tViedma II\tMAYORISTA\n",
    "85\tBASE III\tBASE III\tC.LOGISTICO\n",
    "86\tCONCEPCION TUCUMAN DP\tConcepción Tucumán\tPUEBLO\n",
    "87\tRIO TURBIO\tRío Turbio\tMAYORISTA\n",
    "100\tGOYA CORRIENTES-DP\tGoya Corrientes\tPUEBLO\n",
    "301\tCÓRDOBA 4325\tCórdoba 4325\tBARRIO\n",
    "302\tEVA PERON 2701 CAP\tEva Peron 2701\tBARRIO\n",
    "303\tSAENZ 1136 CAP\tSáenz 1136\tBARRIO\n",
    "304\tPATRICIOS 796\tPatricios 796\tBARRIO\n",
    "305\tCORRIENTES 3374\tCorrientes 3374\tBARRIO\n",
    "306\tTACUARI 419 CAP\tTacuarí 419\tBARRIO\n",
    "307\tPUEYRREDON 582 CAP\tPueyrredón 582\tBARRIO\n",
    "308\tCABILDO 4201\tCabildo 4201\tBARRIO\n",
    "309\tMONROE 1616\tMonroe 1616\tBARRIO\n",
    "310\tSANABRIA\tSanabria\tBARRIO\n",
    "311\tCORRALES 6902\tCorrales 6902\tBARRIO\n",
    "312\tESCALADA\tEscalada\tBARRIO\n",
    "313\tCASTANARES 4758 CAP\tCastañares\tBARRIO\n",
    "314\tCHILAVERT\tChilavert\tBARRIO\n",
    "315\tPEDERNERA\tPedernera\tBARRIO\n",
    "316\tRAMÓN FALCON\tRamón Falcon\tBARRIO\n",
    "317\tENTRE RIOS 785 CAP\tEntre Rios 785\tBARRIO\n",
    "318\tCABILDO 3327 CAP\tCabildo 3327/9\tBARRIO\n",
    "319\tALVAREZ JONTE 3629 CAP\tMiranda 3629 (ex Alvarez Jonte)\tBARRIO\n",
    "320\tAV. CAZÓN 1342\tAv. Cazón 1342\tBARRIO\n",
    "322\tALMAFUERTE 3464 SAN JUSTO\tAlmafuerte 3464\tBARRIO\n",
    "323\tALBERDI 6429 CAP\tAlberdi 6429\tBARRIO\n",
    "326\tAV. URQUIZA 4884\tAV. URQUIZA 4884\tBARRIO\n",
    "328\tCALLE 897, N° 4322\tCalle 897, N° 4322\tBARRIO\n",
    "330\tAV. FRANCISCO BEIRÓ 3261\tAv. Francisco Beiró 3261\tBARRIO\n",
    "332\tRAMÓN LISTA 5020/22\tRamón Lista 5020/22\tBARRIO\n",
    "333\tBARTOLOMÉ MITRE 994\tBartolomé Mitre 994\tBARRIO\n",
    "334\tAVELLANEDA 1990 CAP\tAv. Avellaneda 1990/1992\tBARRIO\n",
    "335\tPATRICIOS 945 CAP\tAv. Regimiento Patricios 945\tBARRIO\n",
    "336\tAV. SANTA FE 4611\tAv. Santa Fe 4611\tBARRIO\n",
    "337\tAV. BOEDO 452\tAv. Boedo 452\tBARRIO\n",
    "339\tSAN LORENZO 2301 SAN MARTIN\tSan Lorenzo 2301\tBARRIO\n",
    "340\tDIAZ VELEZ 4402 CAP\tAv. Díaz Vélez 4402\tBARRIO\n",
    "341\tLAVALLE 520\tLavalle 520\tBARRIO\n",
    "342\tMONTES DE OCA 1049 CAP\tAv. Montes de Oca 1049\tBARRIO\n",
    "344\tRIO DE JANEIRO  838/40\tRio de Janeiro  838/40\tBARRIO\n",
    "345\tMARTIN GARCIA 653 CAP\tMartín García 653\tBARRIO\n",
    "346\tINDEPENDENCIA 2490 CAP\tIndependencia 2490\tBARRIO\n",
    "348\tCORRIENTES 2970 CAP\tCorrientes 2970\tBARRIO\n",
    "351\tRIVADAVIA 8517 CAP\tRivadavia 8517\tBARRIO\n",
    "353\tRAMON CASTILLO\tRamón Castillo 1721\tBARRIO\n",
    "354\tHONORIO PUEYRREDON CAP\tHonorio Pueyrredon 1740\tBARRIO\n",
    "357\tACOYTE 260 CAP\tAcoyte 262\tBARRIO\n",
    "359\tBALBIN 3650\tBalbin 3650\tBARRIO\n",
    "360\tPUEYRREDON 1068\tPueyrredon 1068\tBARRIO\n",
    "361\tCORRIENTES 5270 \tCorrientes 5270 \tBARRIO\n",
    "362\tGASCON 685\tGascon 685\tBARRIO\n",
    "367\tAV ALTE BROWN 1057\tAv Alte Brown 1057\tBARRIO\n",
    "368\tALVEAR 2331\tAlvear 2331\tBARRIO\n",
    "369\tLOPE DE VEGA 1888\tLope De Vega 1888\tBARRIO\n",
    "370\tBAEZ 777\tBaez 777\tBARRIO\n",
    "373\tJUAN BAUTISTA ALBERDI 77\tJuan Bautista Alberdi 77\tBARRIO\n",
    "381\tCORRIENTES 5288\tCorrientes 5288\tBARRIO\n",
    "382\tRIVADAVIA 8224\tRivadavia 8224\tBARRIO\n",
    "383\tSAN MARTIN 546\tSan Martin 546\tBARRIO\n",
    "384\tAV.RIVADAVIA 11678\tAv.Rivadavia 11678\tBARRIO\n",
    "385\tCORRIENTES 1900\tCorrientes 1900\tBARRIO\n",
    "386\tRIO DE JANEIRO 793\tRio De Janeiro 793\tBARRIO\n",
    "387\tDIAZ VELEZ 41734175\tDiaz Velez 41734175\tBARRIO\n",
    "388\tAV.CORRALES 7417\tAv.Corrales 7417\tBARRIO\n",
    "390\tSAN JUAN 2692\tSan Juan 2692\tBARRIO\n",
    "391\tTRIUNVIRATO 4207\tTriunvirato 4207\tBARRIO\n",
    "393\tFRANCISCO BEIRO  4386 \tFrancisco Beiro  4386 \tBARRIO\n",
    "394\tLAVALLE 1765\tLavalle 1765\tBARRIO\n",
    "395\tNAZARRE 251214\tNazarre 251214\tBARRIO\n",
    "396\tAV.CABILDO 4662\tAv.Cabildo 4662\tBARRIO\n",
    "397\tAV.FRANCISCO BEIRO 5450\tAv.Francisco Beiro 5450\tBARRIO\n",
    "399\tCAMARONES 14121424\tCamarones 14121424\tBARRIO\n",
    "400\tAV.SARMIENTO 1641\tAv.Sarmiento 1641\tBARRIO\n",
    "402\tCABELLO 3417\tCabello 3417\tBARRIO\n",
    "403\tRIVADAVIA 2446\tRivadavia 2446\tBARRIO"
   ]
  },
  {
   "cell_type": "markdown",
   "id": "507dc3d8",
   "metadata": {},
   "source": [
    "id_tienda\tsuc_nombre\tsucursal\tformato\n",
    "1\tMERCADO CENTRAL\tMercado Central\tMAYORISTA\n",
    "2\tPOSADAS\tPosadas\tMAYORISTA\n",
    "3\tTRELEW\tTrelew\tMAYORISTA\n",
    "4\tCASANOVA\tCasanova\tMAYORISTA\n",
    "5\tSAN MARTIN\tSan Martin\tMAYORISTA"
   ]
  },
  {
   "cell_type": "code",
   "execution_count": 3,
   "id": "5545f1f6",
   "metadata": {},
   "outputs": [
    {
     "name": "stderr",
     "output_type": "stream",
     "text": [
      "C:\\Users\\eduar\\AppData\\Local\\Temp\\ipykernel_10800\\1189932109.py:32: UserWarning: pandas only supports SQLAlchemy connectable (engine/connection) or database string URI or sqlite3 DBAPI2 connection. Other DBAPI2 objects are not tested. Please consider using SQLAlchemy.\n",
      "  data = pd.read_sql(query, conn)\n"
     ]
    }
   ],
   "source": [
    "import pandas as pd\n",
    "import pyodbc\n",
    "\n",
    "# Configuración de conexión\n",
    "conn_str = f'DRIVER={DRIVER};SERVER={SERVIDOR};PORT={PUERTO};DATBASE={BASE};UID={USUARIO};PWD={CONTRASENA}'\n",
    "\n",
    "conn = pyodbc.connect(conn_str)\n",
    "\n",
    "query = \"\"\"\n",
    "/*** ALGORITMOS PARA DEMANDA PYTHON  (UTILIZA: DiarcoEst SERVER=192.168.0.250 ***/\n",
    "SELECT  V.[F_VENTA]\n",
    "      ,V.[C_ARTICULO]\n",
    "      ,V.[C_SUCU_EMPR]\n",
    "      ,V.[I_PRECIO_VENTA]\n",
    "      ,V.[I_PRECIO_COSTO]\n",
    "      ,V.[I_VENDIDO]\n",
    "      ,V.[Q_UNIDADES_VENDIDAS]\n",
    "      ,V.[I_PRECIO_COSTO_PP]\n",
    "  \n",
    "      ,V.[C_FAMILIA]\n",
    "      ,A.[C_RUBRO]\n",
    "      ,A.[C_SUBRUBRO_1]\n",
    "      ,A.[C_SUBRUBRO_2]\n",
    "      ,A.[N_ARTICULO]\n",
    " \n",
    "  FROM [DCO-DBCORE-P02].[DiarcoEst].[dbo].[T702_EST_VTAS_POR_ARTICULO] V\n",
    "  LEFT JOIN [DCO-DBCORE-P02].[DiarcoEst].[dbo].[T050_ARTICULOS] A \n",
    "\tON V.C_ARTICULO = A.C_ARTICULO\n",
    "WHERE V.[C_SUCU_EMPR] = 5  AND\n",
    "V.F_VENTA >='20240101';\n",
    "\"\"\"\n",
    "data = pd.read_sql(query, conn)\n",
    "conn.close()"
   ]
  },
  {
   "cell_type": "code",
   "execution_count": 4,
   "id": "86daafbf",
   "metadata": {},
   "outputs": [
    {
     "name": "stdout",
     "output_type": "stream",
     "text": [
      "Datos guardados exitosamente en 'datos_SanMartin.csv'\n"
     ]
    }
   ],
   "source": [
    "# Guardar en CSV\n",
    "data.to_csv('data/datos_SanMartin.csv', index=False, encoding='utf-8')\n",
    "\n",
    "print(\"Datos guardados exitosamente en 'datos_SanMartin.csv'\")"
   ]
  },
  {
   "cell_type": "markdown",
   "id": "d4792ec7",
   "metadata": {},
   "source": []
  },
  {
   "cell_type": "markdown",
   "id": "96738ad8",
   "metadata": {},
   "source": [
    "# DATASET PARA ALGORITMOS SUPERVISADOS"
   ]
  },
  {
   "cell_type": "markdown",
   "id": "86efe4c6",
   "metadata": {},
   "source": [
    "## CARGA DEL FICHERO"
   ]
  },
  {
   "cell_type": "code",
   "execution_count": 5,
   "id": "d5774b62",
   "metadata": {},
   "outputs": [
    {
     "data": {
      "text/html": [
       "<div>\n",
       "<style scoped>\n",
       "    .dataframe tbody tr th:only-of-type {\n",
       "        vertical-align: middle;\n",
       "    }\n",
       "\n",
       "    .dataframe tbody tr th {\n",
       "        vertical-align: top;\n",
       "    }\n",
       "\n",
       "    .dataframe thead th {\n",
       "        text-align: right;\n",
       "    }\n",
       "</style>\n",
       "<table border=\"1\" class=\"dataframe\">\n",
       "  <thead>\n",
       "    <tr style=\"text-align: right;\">\n",
       "      <th></th>\n",
       "      <th>F_VENTA</th>\n",
       "      <th>C_ARTICULO</th>\n",
       "      <th>C_SUCU_EMPR</th>\n",
       "      <th>I_PRECIO_VENTA</th>\n",
       "      <th>I_PRECIO_COSTO</th>\n",
       "      <th>I_VENDIDO</th>\n",
       "      <th>Q_UNIDADES_VENDIDAS</th>\n",
       "      <th>I_PRECIO_COSTO_PP</th>\n",
       "      <th>C_FAMILIA</th>\n",
       "      <th>C_RUBRO</th>\n",
       "      <th>C_SUBRUBRO_1</th>\n",
       "      <th>C_SUBRUBRO_2</th>\n",
       "      <th>N_ARTICULO</th>\n",
       "    </tr>\n",
       "  </thead>\n",
       "  <tbody>\n",
       "    <tr>\n",
       "      <th>0</th>\n",
       "      <td>2024-01-02</td>\n",
       "      <td>37.0</td>\n",
       "      <td>5.0</td>\n",
       "      <td>1127.200</td>\n",
       "      <td>880.004</td>\n",
       "      <td>794676.000</td>\n",
       "      <td>705.0</td>\n",
       "      <td>237.1215</td>\n",
       "      <td>3.0</td>\n",
       "      <td>2053.0</td>\n",
       "      <td>2056.0</td>\n",
       "      <td>2061.0</td>\n",
       "      <td>Aceite Natura Girasol 900 Ml                  ...</td>\n",
       "    </tr>\n",
       "    <tr>\n",
       "      <th>1</th>\n",
       "      <td>2024-01-02</td>\n",
       "      <td>37.0</td>\n",
       "      <td>5.0</td>\n",
       "      <td>1127.249</td>\n",
       "      <td>880.004</td>\n",
       "      <td>20290.482</td>\n",
       "      <td>18.0</td>\n",
       "      <td>237.1215</td>\n",
       "      <td>3.0</td>\n",
       "      <td>2053.0</td>\n",
       "      <td>2056.0</td>\n",
       "      <td>2061.0</td>\n",
       "      <td>Aceite Natura Girasol 900 Ml                  ...</td>\n",
       "    </tr>\n",
       "    <tr>\n",
       "      <th>2</th>\n",
       "      <td>2024-01-02</td>\n",
       "      <td>52.0</td>\n",
       "      <td>5.0</td>\n",
       "      <td>1032.984</td>\n",
       "      <td>883.671</td>\n",
       "      <td>139452.840</td>\n",
       "      <td>135.0</td>\n",
       "      <td>239.5533</td>\n",
       "      <td>3.0</td>\n",
       "      <td>2053.0</td>\n",
       "      <td>2056.0</td>\n",
       "      <td>2061.0</td>\n",
       "      <td>Aceite Cocinero Girasol 900 Ml                ...</td>\n",
       "    </tr>\n",
       "    <tr>\n",
       "      <th>3</th>\n",
       "      <td>2024-01-02</td>\n",
       "      <td>52.0</td>\n",
       "      <td>5.0</td>\n",
       "      <td>1032.999</td>\n",
       "      <td>883.671</td>\n",
       "      <td>41319.960</td>\n",
       "      <td>40.0</td>\n",
       "      <td>239.5533</td>\n",
       "      <td>3.0</td>\n",
       "      <td>2053.0</td>\n",
       "      <td>2056.0</td>\n",
       "      <td>2061.0</td>\n",
       "      <td>Aceite Cocinero Girasol 900 Ml                ...</td>\n",
       "    </tr>\n",
       "    <tr>\n",
       "      <th>4</th>\n",
       "      <td>2024-01-02</td>\n",
       "      <td>109.0</td>\n",
       "      <td>5.0</td>\n",
       "      <td>384.999</td>\n",
       "      <td>238.750</td>\n",
       "      <td>1154.997</td>\n",
       "      <td>3.0</td>\n",
       "      <td>185.5707</td>\n",
       "      <td>4.0</td>\n",
       "      <td>3548.0</td>\n",
       "      <td>3549.0</td>\n",
       "      <td>3550.0</td>\n",
       "      <td>Budin Fantasia Chocolate 180 Gr               ...</td>\n",
       "    </tr>\n",
       "  </tbody>\n",
       "</table>\n",
       "</div>"
      ],
      "text/plain": [
       "     F_VENTA  C_ARTICULO  C_SUCU_EMPR  I_PRECIO_VENTA  I_PRECIO_COSTO  \\\n",
       "0 2024-01-02        37.0          5.0        1127.200         880.004   \n",
       "1 2024-01-02        37.0          5.0        1127.249         880.004   \n",
       "2 2024-01-02        52.0          5.0        1032.984         883.671   \n",
       "3 2024-01-02        52.0          5.0        1032.999         883.671   \n",
       "4 2024-01-02       109.0          5.0         384.999         238.750   \n",
       "\n",
       "    I_VENDIDO  Q_UNIDADES_VENDIDAS  I_PRECIO_COSTO_PP  C_FAMILIA  C_RUBRO  \\\n",
       "0  794676.000                705.0           237.1215        3.0   2053.0   \n",
       "1   20290.482                 18.0           237.1215        3.0   2053.0   \n",
       "2  139452.840                135.0           239.5533        3.0   2053.0   \n",
       "3   41319.960                 40.0           239.5533        3.0   2053.0   \n",
       "4    1154.997                  3.0           185.5707        4.0   3548.0   \n",
       "\n",
       "   C_SUBRUBRO_1  C_SUBRUBRO_2  \\\n",
       "0        2056.0        2061.0   \n",
       "1        2056.0        2061.0   \n",
       "2        2056.0        2061.0   \n",
       "3        2056.0        2061.0   \n",
       "4        3549.0        3550.0   \n",
       "\n",
       "                                          N_ARTICULO  \n",
       "0  Aceite Natura Girasol 900 Ml                  ...  \n",
       "1  Aceite Natura Girasol 900 Ml                  ...  \n",
       "2  Aceite Cocinero Girasol 900 Ml                ...  \n",
       "3  Aceite Cocinero Girasol 900 Ml                ...  \n",
       "4  Budin Fantasia Chocolate 180 Gr               ...  "
      ]
     },
     "execution_count": 5,
     "metadata": {},
     "output_type": "execute_result"
    }
   ],
   "source": [
    "#df = pd.read_csv('direct_marketing.csv')\n",
    "data.head()"
   ]
  },
  {
   "cell_type": "code",
   "execution_count": 7,
   "id": "7937ac28",
   "metadata": {},
   "outputs": [
    {
     "name": "stdout",
     "output_type": "stream",
     "text": [
      "<class 'pandas.core.frame.DataFrame'>\n",
      "RangeIndex: 656845 entries, 0 to 656844\n",
      "Data columns (total 13 columns):\n",
      " #   Column               Non-Null Count   Dtype         \n",
      "---  ------               --------------   -----         \n",
      " 0   F_VENTA              656845 non-null  datetime64[ns]\n",
      " 1   C_ARTICULO           656845 non-null  float64       \n",
      " 2   C_SUCU_EMPR          656845 non-null  float64       \n",
      " 3   I_PRECIO_VENTA       656845 non-null  float64       \n",
      " 4   I_PRECIO_COSTO       656845 non-null  float64       \n",
      " 5   I_VENDIDO            656845 non-null  float64       \n",
      " 6   Q_UNIDADES_VENDIDAS  656845 non-null  float64       \n",
      " 7   I_PRECIO_COSTO_PP    656845 non-null  float64       \n",
      " 8   C_FAMILIA            656845 non-null  float64       \n",
      " 9   C_RUBRO              656845 non-null  float64       \n",
      " 10  C_SUBRUBRO_1         656845 non-null  float64       \n",
      " 11  C_SUBRUBRO_2         656845 non-null  float64       \n",
      " 12  N_ARTICULO           656845 non-null  object        \n",
      "dtypes: datetime64[ns](1), float64(11), object(1)\n",
      "memory usage: 65.1+ MB\n"
     ]
    }
   ],
   "source": [
    "data.info()"
   ]
  },
  {
   "cell_type": "code",
   "execution_count": 10,
   "id": "e12c515a",
   "metadata": {},
   "outputs": [
    {
     "data": {
      "text/plain": [
       "Q_UNIDADES_VENDIDAS\n",
       "1.000    203392\n",
       "2.000     95719\n",
       "3.000     78464\n",
       "6.000     40999\n",
       "4.000     34752\n",
       "          ...  \n",
       "6.944         1\n",
       "3.456         1\n",
       "1.179         1\n",
       "4.354         1\n",
       "1.686         1\n",
       "Name: count, Length: 4806, dtype: int64"
      ]
     },
     "execution_count": 10,
     "metadata": {},
     "output_type": "execute_result"
    }
   ],
   "source": [
    "data.Q_UNIDADES_VENDIDAS.value_counts()"
   ]
  },
  {
   "cell_type": "markdown",
   "id": "087c820a",
   "metadata": {},
   "source": [
    "## BALANCEO DE CLASES"
   ]
  },
  {
   "cell_type": "code",
   "execution_count": 4,
   "id": "571f21e1",
   "metadata": {},
   "outputs": [],
   "source": [
    "from sklearn.utils import resample\n",
    "\n",
    "df_majority = data[data['conversion'] == 0]\n",
    "df_minority = data[data['conversion'] == 1]\n",
    "\n",
    "df_majority_downsampled = resample(df_majority, replace=False, n_samples=len(df_minority), random_state=42)\n",
    "\n",
    "df_balanced = pd.concat([df_majority_downsampled, df_minority])"
   ]
  },
  {
   "cell_type": "markdown",
   "id": "4586215b",
   "metadata": {},
   "source": [
    "## PREDICTORAS Y TARGET"
   ]
  },
  {
   "cell_type": "code",
   "execution_count": 5,
   "id": "6a6c0954",
   "metadata": {},
   "outputs": [],
   "source": [
    "X = df_balanced[['recency',\n",
    " 'history_segment',\n",
    " 'history',\n",
    " 'mens',\n",
    " 'womens',\n",
    " 'zip_code',\n",
    " 'newbie',\n",
    " 'channel',\n",
    " 'segment',\n",
    " 'DM_category']]\n",
    "       \n",
    "y = df_balanced.conversion       "
   ]
  },
  {
   "cell_type": "markdown",
   "id": "bcda42b8",
   "metadata": {},
   "source": [
    "## PREPARACIÓN DE DATOS"
   ]
  },
  {
   "cell_type": "code",
   "execution_count": 6,
   "id": "cdd606d7",
   "metadata": {},
   "outputs": [],
   "source": [
    "from sklearn.preprocessing import OneHotEncoder\n",
    "\n",
    "object_columns = X.select_dtypes(include=['object']).columns\n",
    "\n",
    "encoder = OneHotEncoder(sparse_output=False, drop='first')\n",
    "\n",
    "X_encoded = pd.DataFrame(encoder.fit_transform(X[object_columns]))\n",
    "X_encoded.columns = encoder.get_feature_names_out(object_columns)\n",
    "\n",
    "X = X.drop(object_columns, axis=1).reset_index()\n"
   ]
  },
  {
   "cell_type": "code",
   "execution_count": 7,
   "id": "89cec795",
   "metadata": {},
   "outputs": [],
   "source": [
    "X = pd.concat([X, X_encoded], axis=1)"
   ]
  },
  {
   "cell_type": "code",
   "execution_count": 8,
   "id": "6516d1ed",
   "metadata": {},
   "outputs": [],
   "source": [
    "from sklearn.preprocessing import MinMaxScaler\n",
    "\n",
    "scaler = MinMaxScaler()\n",
    "columns = X.columns\n",
    "X_scaled = scaler.fit_transform(X)\n",
    "X_scaled = pd.DataFrame(X_scaled, columns=columns)\n"
   ]
  },
  {
   "cell_type": "markdown",
   "id": "787bad29",
   "metadata": {},
   "source": [
    "## SEPARACIÓN DE TRAIN Y TEST"
   ]
  },
  {
   "cell_type": "code",
   "execution_count": 9,
   "id": "1bf3b2bc",
   "metadata": {},
   "outputs": [],
   "source": [
    "from sklearn.model_selection import train_test_split\n",
    "\n",
    "X_train, X_test, y_train, y_test = train_test_split(X_scaled, y, test_size=0.3, random_state=42)"
   ]
  },
  {
   "cell_type": "markdown",
   "id": "f9b3b16b",
   "metadata": {},
   "source": [
    "## FUNCIÓN PARA MEDIR EL ERROR"
   ]
  },
  {
   "cell_type": "code",
   "execution_count": 10,
   "id": "59aa7a12",
   "metadata": {},
   "outputs": [],
   "source": [
    "from sklearn.metrics import roc_auc_score\n",
    "\n",
    "def mide_error(nombre_modelo, y_pred):\n",
    "    auc = roc_auc_score(y_test, y_pred)\n",
    "    print(f'AUC de {nombre_modelo}: ', round(auc,2))"
   ]
  },
  {
   "cell_type": "markdown",
   "id": "4ea9be67",
   "metadata": {},
   "source": [
    "# DATASET PARA SERIES TEMPORALES"
   ]
  },
  {
   "cell_type": "markdown",
   "id": "b0def974",
   "metadata": {},
   "source": [
    "## CARGA DEL FICHERO"
   ]
  },
  {
   "cell_type": "code",
   "execution_count": 12,
   "id": "2fc1d124",
   "metadata": {},
   "outputs": [
    {
     "data": {
      "text/html": [
       "<div>\n",
       "<style scoped>\n",
       "    .dataframe tbody tr th:only-of-type {\n",
       "        vertical-align: middle;\n",
       "    }\n",
       "\n",
       "    .dataframe tbody tr th {\n",
       "        vertical-align: top;\n",
       "    }\n",
       "\n",
       "    .dataframe thead th {\n",
       "        text-align: right;\n",
       "    }\n",
       "</style>\n",
       "<table border=\"1\" class=\"dataframe\">\n",
       "  <thead>\n",
       "    <tr style=\"text-align: right;\">\n",
       "      <th></th>\n",
       "      <th>infl</th>\n",
       "    </tr>\n",
       "    <tr>\n",
       "      <th>period</th>\n",
       "      <th></th>\n",
       "    </tr>\n",
       "  </thead>\n",
       "  <tbody>\n",
       "    <tr>\n",
       "      <th>1959Q1</th>\n",
       "      <td>0.00</td>\n",
       "    </tr>\n",
       "    <tr>\n",
       "      <th>1959Q2</th>\n",
       "      <td>2.34</td>\n",
       "    </tr>\n",
       "    <tr>\n",
       "      <th>1959Q3</th>\n",
       "      <td>2.74</td>\n",
       "    </tr>\n",
       "    <tr>\n",
       "      <th>1959Q4</th>\n",
       "      <td>0.27</td>\n",
       "    </tr>\n",
       "    <tr>\n",
       "      <th>1960Q1</th>\n",
       "      <td>2.31</td>\n",
       "    </tr>\n",
       "  </tbody>\n",
       "</table>\n",
       "</div>"
      ],
      "text/plain": [
       "        infl\n",
       "period      \n",
       "1959Q1  0.00\n",
       "1959Q2  2.34\n",
       "1959Q3  2.74\n",
       "1959Q4  0.27\n",
       "1960Q1  2.31"
      ]
     },
     "execution_count": 12,
     "metadata": {},
     "output_type": "execute_result"
    }
   ],
   "source": [
    "import statsmodels.api as sm\n",
    "\n",
    "df_st = sm.datasets.macrodata.load_pandas().data.loc[:,['year','quarter','infl']]\n",
    "#df_st['period'] = pd.PeriodIndex(year=df_st['year'], quarter=df_st['quarter'], freq='Q')\n",
    "df_st['period'] = pd.PeriodIndex.from_fields(year=df_st['year'], quarter=df_st['quarter'], freq='Q')\n",
    "\n",
    "df_st.set_index('period', inplace=True)\n",
    "df_st.drop(['year', 'quarter'], axis=1, inplace=True)\n",
    "df_st.head()"
   ]
  },
  {
   "cell_type": "markdown",
   "id": "3275cd06",
   "metadata": {},
   "source": [
    "## SEPARACIÓN DE TRAIN Y TEST"
   ]
  },
  {
   "cell_type": "code",
   "execution_count": 13,
   "id": "7ab66999",
   "metadata": {},
   "outputs": [],
   "source": [
    "train_data = df_st.iloc[:-4]\n",
    "test_data = df_st.iloc[-4:] \n",
    "train_data = train_data['infl'].values.astype(np.float64)"
   ]
  },
  {
   "cell_type": "markdown",
   "id": "f7cdec31",
   "metadata": {},
   "source": [
    "# REGRESIÓN LOGÍSTICA"
   ]
  },
  {
   "cell_type": "code",
   "execution_count": 14,
   "id": "62e14007",
   "metadata": {},
   "outputs": [
    {
     "name": "stdout",
     "output_type": "stream",
     "text": [
      "AUC de Regresión Logística:  0.6\n"
     ]
    }
   ],
   "source": [
    "from sklearn.linear_model import LogisticRegression\n",
    "\n",
    "logreg = LogisticRegression(solver='newton-cg')\n",
    "logreg.fit(X_train, y_train)\n",
    "\n",
    "y_pred = logreg.predict_proba(X_test)[:,1]\n",
    "\n",
    "mide_error('Regresión Logística', y_pred)"
   ]
  },
  {
   "cell_type": "markdown",
   "id": "0fc78400",
   "metadata": {},
   "source": [
    "# KNN"
   ]
  },
  {
   "cell_type": "code",
   "execution_count": 15,
   "id": "15491615",
   "metadata": {},
   "outputs": [
    {
     "name": "stdout",
     "output_type": "stream",
     "text": [
      "AUC de KNN:  0.57\n"
     ]
    }
   ],
   "source": [
    "from sklearn.neighbors import KNeighborsClassifier\n",
    "\n",
    "knn = KNeighborsClassifier(n_neighbors=10)\n",
    "knn.fit(X_train, y_train)\n",
    "\n",
    "y_pred = knn.predict_proba(X_test)[:,1]\n",
    "\n",
    "mide_error('KNN', y_pred)"
   ]
  },
  {
   "cell_type": "markdown",
   "id": "b3605f9a",
   "metadata": {},
   "source": [
    "# NAIVE BAYES"
   ]
  },
  {
   "cell_type": "code",
   "execution_count": 16,
   "id": "08b8d8e0",
   "metadata": {},
   "outputs": [
    {
     "name": "stdout",
     "output_type": "stream",
     "text": [
      "AUC de Naive Bayes:  0.58\n"
     ]
    }
   ],
   "source": [
    "from sklearn.naive_bayes import BernoulliNB\n",
    "\n",
    "naive_bayes = BernoulliNB()\n",
    "naive_bayes.fit(X_train, y_train)\n",
    "\n",
    "y_pred = naive_bayes.predict_proba(X_test)[:,1]\n",
    "\n",
    "mide_error('Naive Bayes', y_pred)"
   ]
  },
  {
   "cell_type": "markdown",
   "id": "80139a74",
   "metadata": {},
   "source": [
    "# K-MEDIAS"
   ]
  },
  {
   "cell_type": "code",
   "execution_count": 17,
   "id": "0a63ab3e",
   "metadata": {},
   "outputs": [
    {
     "data": {
      "text/plain": [
       "array([0, 2, 4, 3, 3, 2, 3, 1, 3, 4], dtype=int32)"
      ]
     },
     "execution_count": 17,
     "metadata": {},
     "output_type": "execute_result"
    }
   ],
   "source": [
    "from sklearn.cluster import KMeans\n",
    "\n",
    "kmeans = KMeans(n_clusters=5)\n",
    "\n",
    "kmeans.fit(X_train)\n",
    "\n",
    "kmeans.labels_[:10]"
   ]
  },
  {
   "cell_type": "markdown",
   "id": "e124b1c9",
   "metadata": {},
   "source": [
    "# ÁRBOL DE DECISIÓN"
   ]
  },
  {
   "cell_type": "code",
   "execution_count": 18,
   "id": "14867d97",
   "metadata": {},
   "outputs": [
    {
     "name": "stdout",
     "output_type": "stream",
     "text": [
      "AUC de Árbol de Decisión:  0.58\n"
     ]
    }
   ],
   "source": [
    "from sklearn.tree import DecisionTreeClassifier\n",
    "\n",
    "tree = DecisionTreeClassifier()\n",
    "tree.fit(X_train, y_train)\n",
    "\n",
    "y_pred = tree.predict_proba(X_test)[:,1]\n",
    "\n",
    "mide_error('Árbol de Decisión', y_pred)"
   ]
  },
  {
   "cell_type": "markdown",
   "id": "f3cc0442",
   "metadata": {},
   "source": [
    "# ARIMA"
   ]
  },
  {
   "cell_type": "code",
   "execution_count": 25,
   "id": "03726c96",
   "metadata": {},
   "outputs": [
    {
     "ename": "ValueError",
     "evalue": "numpy.dtype size changed, may indicate binary incompatibility. Expected 96 from C header, got 88 from PyObject",
     "output_type": "error",
     "traceback": [
      "\u001b[1;31m---------------------------------------------------------------------------\u001b[0m",
      "\u001b[1;31mValueError\u001b[0m                                Traceback (most recent call last)",
      "Cell \u001b[1;32mIn[25], line 1\u001b[0m\n\u001b[1;32m----> 1\u001b[0m \u001b[38;5;28;01mfrom\u001b[39;00m \u001b[38;5;21;01mpmdarima\u001b[39;00m \u001b[38;5;28;01mimport\u001b[39;00m auto_arima\n\u001b[0;32m      4\u001b[0m model \u001b[38;5;241m=\u001b[39m auto_arima(train_data, seasonal\u001b[38;5;241m=\u001b[39m\u001b[38;5;28;01mFalse\u001b[39;00m, suppress_warnings\u001b[38;5;241m=\u001b[39m\u001b[38;5;28;01mTrue\u001b[39;00m)\n\u001b[0;32m      5\u001b[0m model_fit \u001b[38;5;241m=\u001b[39m model\u001b[38;5;241m.\u001b[39mfit(train_data)\n",
      "File \u001b[1;32mc:\\PY\\.venv\\Lib\\site-packages\\pmdarima\\__init__.py:52\u001b[0m\n\u001b[0;32m     49\u001b[0m \u001b[38;5;28;01mfrom\u001b[39;00m \u001b[38;5;21;01m.\u001b[39;00m \u001b[38;5;28;01mimport\u001b[39;00m __check_build\n\u001b[0;32m     51\u001b[0m \u001b[38;5;66;03m# Stuff we want at top-level\u001b[39;00m\n\u001b[1;32m---> 52\u001b[0m \u001b[38;5;28;01mfrom\u001b[39;00m \u001b[38;5;21;01m.\u001b[39;00m\u001b[38;5;21;01marima\u001b[39;00m \u001b[38;5;28;01mimport\u001b[39;00m auto_arima, ARIMA, AutoARIMA, StepwiseContext, decompose\n\u001b[0;32m     53\u001b[0m \u001b[38;5;28;01mfrom\u001b[39;00m \u001b[38;5;21;01m.\u001b[39;00m\u001b[38;5;21;01mutils\u001b[39;00m \u001b[38;5;28;01mimport\u001b[39;00m acf, autocorr_plot, c, pacf, plot_acf, plot_pacf, \\\n\u001b[0;32m     54\u001b[0m     tsdisplay\n\u001b[0;32m     55\u001b[0m \u001b[38;5;28;01mfrom\u001b[39;00m \u001b[38;5;21;01m.\u001b[39;00m\u001b[38;5;21;01mutils\u001b[39;00m\u001b[38;5;21;01m.\u001b[39;00m\u001b[38;5;21;01m_show_versions\u001b[39;00m \u001b[38;5;28;01mimport\u001b[39;00m show_versions\n",
      "File \u001b[1;32mc:\\PY\\.venv\\Lib\\site-packages\\pmdarima\\arima\\__init__.py:5\u001b[0m\n\u001b[0;32m      1\u001b[0m \u001b[38;5;66;03m# -*- coding: utf-8 -*-\u001b[39;00m\n\u001b[0;32m      2\u001b[0m \u001b[38;5;66;03m#\u001b[39;00m\n\u001b[0;32m      3\u001b[0m \u001b[38;5;66;03m# Author: Taylor Smith <taylor.smith@alkaline-ml.com>\u001b[39;00m\n\u001b[1;32m----> 5\u001b[0m \u001b[38;5;28;01mfrom\u001b[39;00m \u001b[38;5;21;01m.\u001b[39;00m\u001b[38;5;21;01mapprox\u001b[39;00m \u001b[38;5;28;01mimport\u001b[39;00m \u001b[38;5;241m*\u001b[39m\n\u001b[0;32m      6\u001b[0m \u001b[38;5;28;01mfrom\u001b[39;00m \u001b[38;5;21;01m.\u001b[39;00m\u001b[38;5;21;01marima\u001b[39;00m \u001b[38;5;28;01mimport\u001b[39;00m \u001b[38;5;241m*\u001b[39m\n\u001b[0;32m      7\u001b[0m \u001b[38;5;28;01mfrom\u001b[39;00m \u001b[38;5;21;01m.\u001b[39;00m\u001b[38;5;21;01mauto\u001b[39;00m \u001b[38;5;28;01mimport\u001b[39;00m \u001b[38;5;241m*\u001b[39m\n",
      "File \u001b[1;32mc:\\PY\\.venv\\Lib\\site-packages\\pmdarima\\arima\\approx.py:9\u001b[0m\n\u001b[0;32m      1\u001b[0m \u001b[38;5;66;03m# -*- coding: utf-8 -*-\u001b[39;00m\n\u001b[0;32m      2\u001b[0m \u001b[38;5;66;03m#\u001b[39;00m\n\u001b[0;32m      3\u001b[0m \u001b[38;5;66;03m# Author: Taylor Smith <taylor.smith@alkaline-ml.com>\u001b[39;00m\n\u001b[0;32m      4\u001b[0m \u001b[38;5;66;03m#\u001b[39;00m\n\u001b[0;32m      5\u001b[0m \u001b[38;5;66;03m# R approx function\u001b[39;00m\n\u001b[0;32m      7\u001b[0m \u001b[38;5;28;01mimport\u001b[39;00m \u001b[38;5;21;01mnumpy\u001b[39;00m \u001b[38;5;28;01mas\u001b[39;00m \u001b[38;5;21;01mnp\u001b[39;00m\n\u001b[1;32m----> 9\u001b[0m \u001b[38;5;28;01mfrom\u001b[39;00m \u001b[38;5;21;01m.\u001b[39;00m\u001b[38;5;21;01m.\u001b[39;00m\u001b[38;5;21;01mutils\u001b[39;00m\u001b[38;5;21;01m.\u001b[39;00m\u001b[38;5;21;01marray\u001b[39;00m \u001b[38;5;28;01mimport\u001b[39;00m c, check_endog\n\u001b[0;32m     10\u001b[0m \u001b[38;5;28;01mfrom\u001b[39;00m \u001b[38;5;21;01m.\u001b[39;00m\u001b[38;5;21;01m.\u001b[39;00m\u001b[38;5;21;01mutils\u001b[39;00m \u001b[38;5;28;01mimport\u001b[39;00m get_callable\n\u001b[0;32m     11\u001b[0m \u001b[38;5;28;01mfrom\u001b[39;00m \u001b[38;5;21;01m.\u001b[39;00m\u001b[38;5;21;01m.\u001b[39;00m\u001b[38;5;21;01mcompat\u001b[39;00m\u001b[38;5;21;01m.\u001b[39;00m\u001b[38;5;21;01mnumpy\u001b[39;00m \u001b[38;5;28;01mimport\u001b[39;00m DTYPE\n",
      "File \u001b[1;32mc:\\PY\\.venv\\Lib\\site-packages\\pmdarima\\utils\\__init__.py:5\u001b[0m\n\u001b[0;32m      1\u001b[0m \u001b[38;5;66;03m# -*- coding: utf-8 -*-\u001b[39;00m\n\u001b[0;32m      2\u001b[0m \u001b[38;5;66;03m#\u001b[39;00m\n\u001b[0;32m      3\u001b[0m \u001b[38;5;66;03m# Author: Taylor Smith <taylor.smith@alkaline-ml.com>\u001b[39;00m\n\u001b[1;32m----> 5\u001b[0m \u001b[38;5;28;01mfrom\u001b[39;00m \u001b[38;5;21;01m.\u001b[39;00m\u001b[38;5;21;01marray\u001b[39;00m \u001b[38;5;28;01mimport\u001b[39;00m \u001b[38;5;241m*\u001b[39m\n\u001b[0;32m      6\u001b[0m \u001b[38;5;28;01mfrom\u001b[39;00m \u001b[38;5;21;01m.\u001b[39;00m\u001b[38;5;21;01mmetaestimators\u001b[39;00m \u001b[38;5;28;01mimport\u001b[39;00m \u001b[38;5;241m*\u001b[39m\n\u001b[0;32m      7\u001b[0m \u001b[38;5;28;01mfrom\u001b[39;00m \u001b[38;5;21;01m.\u001b[39;00m\u001b[38;5;21;01mvisualization\u001b[39;00m \u001b[38;5;28;01mimport\u001b[39;00m \u001b[38;5;241m*\u001b[39m\n",
      "File \u001b[1;32mc:\\PY\\.venv\\Lib\\site-packages\\pmdarima\\utils\\array.py:13\u001b[0m\n\u001b[0;32m     10\u001b[0m \u001b[38;5;28;01mimport\u001b[39;00m \u001b[38;5;21;01mpandas\u001b[39;00m \u001b[38;5;28;01mas\u001b[39;00m \u001b[38;5;21;01mpd\u001b[39;00m\n\u001b[0;32m     12\u001b[0m \u001b[38;5;28;01mfrom\u001b[39;00m \u001b[38;5;21;01m.\u001b[39;00m\u001b[38;5;21;01m.\u001b[39;00m\u001b[38;5;21;01mcompat\u001b[39;00m \u001b[38;5;28;01mimport\u001b[39;00m DTYPE\n\u001b[1;32m---> 13\u001b[0m \u001b[38;5;28;01mfrom\u001b[39;00m \u001b[38;5;21;01m.\u001b[39;00m\u001b[38;5;21;01m_array\u001b[39;00m \u001b[38;5;28;01mimport\u001b[39;00m C_intgrt_vec\n\u001b[0;32m     15\u001b[0m __all__ \u001b[38;5;241m=\u001b[39m [\n\u001b[0;32m     16\u001b[0m     \u001b[38;5;124m'\u001b[39m\u001b[38;5;124mas_series\u001b[39m\u001b[38;5;124m'\u001b[39m,\n\u001b[0;32m     17\u001b[0m     \u001b[38;5;124m'\u001b[39m\u001b[38;5;124mc\u001b[39m\u001b[38;5;124m'\u001b[39m,\n\u001b[1;32m   (...)\u001b[0m\n\u001b[0;32m     22\u001b[0m     \u001b[38;5;124m'\u001b[39m\u001b[38;5;124mis_iterable\u001b[39m\u001b[38;5;124m'\u001b[39m\n\u001b[0;32m     23\u001b[0m ]\n\u001b[0;32m     26\u001b[0m \u001b[38;5;28;01mdef\u001b[39;00m \u001b[38;5;21mas_series\u001b[39m(x, \u001b[38;5;241m*\u001b[39m\u001b[38;5;241m*\u001b[39mkwargs):\n",
      "File \u001b[1;32mc:\\PY\\.venv\\Lib\\site-packages\\pmdarima\\utils\\_array.pyx:1\u001b[0m, in \u001b[0;36minit pmdarima.utils._array\u001b[1;34m()\u001b[0m\n",
      "\u001b[1;31mValueError\u001b[0m: numpy.dtype size changed, may indicate binary incompatibility. Expected 96 from C header, got 88 from PyObject"
     ]
    }
   ],
   "source": [
    "from pmdarima import auto_arima\n",
    "\n",
    "\n",
    "model = auto_arima(train_data, seasonal=False, suppress_warnings=True)\n",
    "model_fit = model.fit(train_data)\n",
    "predictions = model_fit.predict(n_periods=len(test_data))\n",
    "\n",
    "\n",
    "plt.figure(figsize=(12, 6))\n",
    "plt.plot(df_st[-12:].index.strftime('%YQ%q'), df_st[-12:].infl, label='Realidad')\n",
    "plt.plot(df_st[-4:].index.strftime('%YQ%q'), predictions, label='Predicción')\n",
    "plt.xticks(rotation=45, fontsize=8);"
   ]
  },
  {
   "cell_type": "markdown",
   "id": "470f27cf",
   "metadata": {},
   "source": [
    "# SUAVIZADO EXPONENCIAL"
   ]
  },
  {
   "cell_type": "code",
   "execution_count": 26,
   "id": "0ecbe7cd",
   "metadata": {},
   "outputs": [
    {
     "data": {
      "image/png": "[encoded data removed]",
      "text/plain": [
       "<Figure size 1200x600 with 1 Axes>"
      ]
     },
     "metadata": {},
     "output_type": "display_data"
    }
   ],
   "source": [
    "from statsmodels.tsa.holtwinters import ExponentialSmoothing\n",
    "\n",
    "model = ExponentialSmoothing(train_data, seasonal=None, trend='add')\n",
    "model_fit = model.fit()\n",
    "predictions = model_fit.predict(start=len(train_data), end=len(train_data) + len(test_data) - 1)\n",
    "\n",
    "plt.figure(figsize=(12, 6))\n",
    "plt.plot(df_st[-12:].index.strftime('%YQ%q'), df_st[-12:].infl, label='Realidad')\n",
    "plt.plot(df_st[-4:].index.strftime('%YQ%q'), predictions, label='Predicción')\n",
    "plt.xticks(rotation=45, fontsize=8);"
   ]
  },
  {
   "cell_type": "markdown",
   "id": "d83b9a6b",
   "metadata": {},
   "source": [
    "# RANDOM FOREST"
   ]
  },
  {
   "cell_type": "code",
   "execution_count": 27,
   "id": "f6579ae7",
   "metadata": {},
   "outputs": [
    {
     "name": "stdout",
     "output_type": "stream",
     "text": [
      "AUC de Random Forest:  0.58\n"
     ]
    }
   ],
   "source": [
    "from sklearn.ensemble import RandomForestClassifier\n",
    "\n",
    "random_forest = RandomForestClassifier()\n",
    "random_forest.fit(X_train, y_train)\n",
    "\n",
    "y_pred = random_forest.predict_proba(X_test)[:,1]\n",
    "\n",
    "mide_error('Random Forest', y_pred)\n"
   ]
  },
  {
   "cell_type": "markdown",
   "id": "6cfe991a",
   "metadata": {},
   "source": [
    "# XGBBOOST"
   ]
  },
  {
   "cell_type": "code",
   "execution_count": 28,
   "id": "6fd948ac",
   "metadata": {},
   "outputs": [
    {
     "name": "stdout",
     "output_type": "stream",
     "text": [
      "AUC de XGBboost:  0.53\n"
     ]
    }
   ],
   "source": [
    "from xgboost import XGBClassifier\n",
    "\n",
    "xgb_classifier = XGBClassifier()\n",
    "xgb_classifier.fit(X_train, y_train)\n",
    "\n",
    "y_pred = xgb_classifier.predict_proba(X_test)[:,1]\n",
    "\n",
    "mide_error('XGBboost', y_pred)"
   ]
  },
  {
   "cell_type": "markdown",
   "id": "bbcbc57c",
   "metadata": {},
   "source": [
    "# LIGHTGBM"
   ]
  },
  {
   "cell_type": "code",
   "execution_count": 29,
   "id": "d8d7dbfa",
   "metadata": {},
   "outputs": [
    {
     "name": "stdout",
     "output_type": "stream",
     "text": [
      "AUC de XGBboost:  0.54\n"
     ]
    }
   ],
   "source": [
    "from sklearn.ensemble import HistGradientBoostingClassifier\n",
    "\n",
    "hist_gradient_boosting = HistGradientBoostingClassifier()\n",
    "hist_gradient_boosting.fit(X_train, y_train)\n",
    "\n",
    "y_pred = hist_gradient_boosting.predict_proba(X_test)[:,1]\n",
    "\n",
    "mide_error('XGBboost', y_pred)"
   ]
  }
 ],
 "metadata": {
  "kernelspec": {
   "display_name": ".venv",
   "language": "python",
   "name": "python3"
  },
  "language_info": {
   "codemirror_mode": {
    "name": "ipython",
    "version": 3
   },
   "file_extension": ".py",
   "mimetype": "text/x-python",
   "name": "python",
   "nbconvert_exporter": "python",
   "pygments_lexer": "ipython3",
   "version": "3.12.1"
  },
  "toc": {
   "base_numbering": 1,
   "nav_menu": {},
   "number_sections": true,
   "sideBar": true,
   "skip_h1_title": false,
   "title_cell": "Table of Contents",
   "title_sidebar": "Contents",
   "toc_cell": false,
   "toc_position": {
    "height": "calc(100% - 180px)",
    "left": "10px",
    "top": "150px",
    "width": "376px"
   },
   "toc_section_display": true,
   "toc_window_display": true
  },
  "varInspector": {
   "cols": {
    "lenName": 16,
    "lenType": 16,
    "lenVar": 40
   },
   "kernels_config": {
    "python": {
     "delete_cmd_postfix": "",
     "delete_cmd_prefix": "del ",
     "library": "var_list.py",
     "varRefreshCmd": "print(var_dic_list())"
    },
    "r": {
     "delete_cmd_postfix": ") ",
     "delete_cmd_prefix": "rm(",
     "library": "var_list.r",
     "varRefreshCmd": "cat(var_dic_list()) "
    }
   },
   "types_to_exclude": [
    "module",
    "function",
    "builtin_function_or_method",
    "instance",
    "_Feature"
   ],
   "window_display": false
  }
 },
 "nbformat": 4,
 "nbformat_minor": 5
}
